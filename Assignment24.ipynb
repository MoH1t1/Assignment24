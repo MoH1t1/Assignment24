{
  "metadata": {
    "kernelspec": {
      "name": "python",
      "display_name": "Python (Pyodide)",
      "language": "python"
    },
    "language_info": {
      "codemirror_mode": {
        "name": "python",
        "version": 3
      },
      "file_extension": ".py",
      "mimetype": "text/x-python",
      "name": "python",
      "nbconvert_exporter": "python",
      "pygments_lexer": "ipython3",
      "version": "3.8"
    }
  },
  "nbformat_minor": 4,
  "nbformat": 4,
  "cells": [
    {
      "cell_type": "code",
      "source": "# Que 1: Name any five plots that we can plot using the Seaborn library. Also, state the uses of each plot.\n\nLine Plot (sns.lineplot()): A line plot is used to visualize the relationship between two continuous variables over time or other ordered axes. It helps to show trends or patterns in the data.\nBar Plot (sns.barplot()): A bar plot is used to compare categorical data with respect to numerical values. It shows the average (or another statistic) of a variable for each category.\nBox Plot (sns.boxplot()): A box plot is used to display the distribution of data through its quartiles. It shows the minimum, maximum, median, and outliers in the dataset. It is helpful for comparing distributions between categories.\nHeatmap (sns.heatmap()): A heatmap is used to display the matrix of data values in a color-encoded format. It is useful for visualizing correlations or relationships in large datasets.\nPair Plot (sns.pairplot()): A pair plot is used to plot pairwise relationships in a dataset. It can show how features relate to each other and can also be used to visualize distributions along the diagonal. ",
      "metadata": {
        "trusted": true
      },
      "outputs": [],
      "execution_count": null
    },
    {
      "cell_type": "code",
      "source": "# Que 2: Load the \"fmri\" dataset using the load_dataset function of seaborn. Plot a line plot using x = \"timepoint\" and y = \"signal\" for different events and regions.\n# Note: timepoint, signal, event, and region are columns in the fmri dataset.\n\nimport seaborn as sns\nimport matplotlib.pyplot as plt\nfmri = sns.load_dataset('fmri')\nsns.lineplot(data=fmri, x='timepoint', y='signal', hue='event', style='region')\n\nplt.title(\"Line Plot of Signal over Time by Event and Region\")\nplt.xlabel(\"Timepoint\")\nplt.ylabel(\"Signal\")\nplt.show()\n",
      "metadata": {
        "trusted": true
      },
      "outputs": [],
      "execution_count": 2
    },
    {
      "cell_type": "code",
      "source": "# Que 3: Load the \"titanic\" dataset using the load_dataset function of seaborn. Plot two box plots using x = 'pclass', y = 'age' and y = 'fare'.\n# Note: pclass, age, and fare are columns in the titanic dataset.\n\n\ntitanic = sns.load_dataset('titanic')\nplt.figure(figsize=(10, 5))\nsns.boxplot(data=titanic, x='pclass', y='age')\nplt.title(\"Box Plot of Age vs Pclass\")\nplt.show()\n\nplt.figure(figsize=(10, 5))\nsns.boxplot(data=titanic, x='pclass', y='fare')\nplt.title(\"Box Plot of Fare vs Pclass\")\nplt.show()\n",
      "metadata": {
        "trusted": true
      },
      "outputs": [],
      "execution_count": null
    },
    {
      "cell_type": "code",
      "source": "# Que 4: Use the \"diamonds\" dataset from seaborn to plot a histogram for the 'price' column. Use the hue parameter for the 'cut' column of the diamonds dataset.\n\n\ndiamonds = sns.load_dataset('diamonds')\nsns.histplot(data=diamonds, x='price', hue='cut', kde=True)\nplt.title(\"Histogram of Diamond Prices by Cut\")\nplt.xlabel(\"Price\")\nplt.ylabel(\"Count\")\nplt.show()\n",
      "metadata": {
        "trusted": true
      },
      "outputs": [],
      "execution_count": null
    },
    {
      "cell_type": "code",
      "source": "# Que 5: Use the \"iris\" dataset from seaborn to plot a pair plot. Use the hue parameter for the \"species\" column of the iris dataset.\n\n\niris = sns.load_dataset('iris')\nsns.pairplot(iris, hue='species')\nplt.title(\"Pair Plot of Iris Dataset\")\nplt.show()\n",
      "metadata": {
        "trusted": true
      },
      "outputs": [],
      "execution_count": null
    },
    {
      "cell_type": "code",
      "source": "# Que 6: Use the \"flights\" dataset from seaborn to plot a heatmap.\n\n\nflights = sns.load_dataset('flights')\nflights_pivot = flights.pivot_table(index='month', columns='year', values='passengers')\nsns.heatmap(flights_pivot, cmap='YlGnBu', annot=True)\nplt.title(\"Heatmap of Passengers over Months and Years\")\nplt.show()",
      "metadata": {
        "trusted": true
      },
      "outputs": [],
      "execution_count": null
    },
    {
      "cell_type": "code",
      "source": "",
      "metadata": {
        "trusted": true
      },
      "outputs": [],
      "execution_count": null
    }
  ]
}